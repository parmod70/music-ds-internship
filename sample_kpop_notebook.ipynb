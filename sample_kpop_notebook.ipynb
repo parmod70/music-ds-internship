{
  "cells": [
    {
      "cell_type": "markdown",
      "metadata": {},
      "source": [
        "# \ud83c\udfa7 K-Pop Music Data Exploration\n",
        "\n",
        "This notebook explores basic stats from a mock K-pop dataset using Python's pandas and matplotlib libraries."
      ]
    },
    {
      "cell_type": "code",
      "execution_count": null,
      "metadata": {},
      "outputs": [],
      "source": [
        "import pandas as pd\n",
        "import matplotlib.pyplot as plt\n",
        "\n",
        "# Mock dataset\n",
        "data = {\n",
        "    'Artist': ['BTS', 'Blackpink', 'Twice', 'EXO', 'Red Velvet'],\n",
        "    'Popularity': [95, 90, 85, 80, 75],\n",
        "    'Danceability': [0.8, 0.75, 0.78, 0.7, 0.72]\n",
        "}\n",
        "df = pd.DataFrame(data)\n",
        "df"
      ]
    },
    {
      "cell_type": "code",
      "execution_count": null,
      "metadata": {},
      "outputs": [],
      "source": [
        "# Bar chart for popularity\n",
        "plt.figure(figsize=(8, 5))\n",
        "plt.bar(df['Artist'], df['Popularity'], color='purple')\n",
        "plt.title('K-Pop Artist Popularity')\n",
        "plt.ylabel('Popularity')\n",
        "plt.xlabel('Artist')\n",
        "plt.grid(True, axis='y', linestyle='--', alpha=0.5)\n",
        "plt.tight_layout()\n",
        "plt.show()"
      ]
    }
  ],
  "metadata": {
    "kernelspec": {
      "display_name": "Python 3",
      "language": "python",
      "name": "python3"
    },
    "language_info": {
      "name": "python",
      "version": "3.8"
    }
  },
  "nbformat": 4,
  "nbformat_minor": 2
}